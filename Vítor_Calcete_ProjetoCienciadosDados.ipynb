{
 "cells": [
  {
   "cell_type": "markdown",
   "metadata": {},
   "source": [
    "# Projeto 1 - Ciência dos dados - Vítor Calcete Marques"
   ]
  },
  {
   "cell_type": "markdown",
   "metadata": {},
   "source": [
    "Para esse projeto é necessário escolher três indicadores disponíveis no Gapminder, sendo um deles o IDH(Índice de Desenvolvimento Humano), e outros dois livres para escolha. É preciso fazer uma pergunta para ser respondida com a análise dos dados dos indicadores."
   ]
  },
  {
   "cell_type": "markdown",
   "metadata": {},
   "source": [
    "Os indicadores escolhidos para esse projeto foram: IDH, População Total e Consumo total de eletricidade.\n",
    "\n",
    "# Pergunta: População Total e Consumo de eletricidade são diretamente proporcionais ao IDH do país?\n",
    "\n",
    "Resolvi investigar a relação de consumo de eletricidade, população total e IDH pois acredito que quanto maior o consumo de eletricidade maior é a tecnologia que o país utiliza, portanto maior seria seu IDH e a respeito da população acredito que quanto mais população um país tem maior é a chance de existir pessoas para desenvolver o país.\n"
   ]
  },
  {
   "cell_type": "markdown",
   "metadata": {},
   "source": [
    "## Leitura dos arquivos "
   ]
  },
  {
   "cell_type": "code",
   "execution_count": 14,
   "metadata": {},
   "outputs": [],
   "source": [
    "%matplotlib inline\n",
    "import pandas as pd\n",
    "import numpy as np\n",
    "import math as math\n",
    "import matplotlib.pyplot as plt"
   ]
  },
  {
   "cell_type": "code",
   "execution_count": 15,
   "metadata": {},
   "outputs": [],
   "source": [
    "#Leitura dos arquivos em Excel\n",
    "DataHDI = pd.read_excel('hdi_human_development_index.xlsx')\n",
    "DataEnergy = pd.read_excel('Indicator_Electricity consumption total.xlsx')\n",
    "DataPopulation = pd.read_excel('population_total.xlsx')"
   ]
  },
  {
   "cell_type": "code",
   "execution_count": 21,
   "metadata": {},
   "outputs": [],
   "source": [
    "DataHDI_2008 = DataHDI.loc[:, [\"geo\", 2008]]\n",
    "DataEnergy_2008 = DataEnergy.loc[:, [\"Electricity consumption, total (kWh)\", \"2008\"]]\n",
    "DataPopulation_2008 = DataPopulation.loc[:, [\"geo\", 2008]]\n"
   ]
  },
  {
   "cell_type": "markdown",
   "metadata": {},
   "source": [
    "## Mudanças de índices"
   ]
  },
  {
   "cell_type": "code",
   "execution_count": 20,
   "metadata": {},
   "outputs": [],
   "source": [
    "DataHDI_2008_idx = DataHDI_2008.set_index('geo')\n",
    "DataEnergy_2008_idx = DataEnergy_2008.set_index(\"Electricity consumption, total (kWh)\")\n",
    "DataPopulation_2008_idx = DataPopulation_2008.set_index('geo')\n"
   ]
  },
  {
   "cell_type": "markdown",
   "metadata": {},
   "source": [
    "## Junção de Dataframes "
   ]
  },
  {
   "cell_type": "code",
   "execution_count": 19,
   "metadata": {},
   "outputs": [],
   "source": [
    "DataJ = DataHDI_2008_idx.join(DataPopulation_2008_idx, how='inner', lsuffix='_IDH', rsuffix='_População total')\n",
    "#mudando nome:\n",
    "DataJ[\"IDH\"]= DataJ.pop(\"2008_IDH\")\n"
   ]
  },
  {
   "cell_type": "code",
   "execution_count": 26,
   "metadata": {},
   "outputs": [],
   "source": [
    "# Dando Join do terceiro data frame\n",
    "DataJoin = DataJ.join(DataEnergy_2008_idx, how='inner')\n",
    "DataJoin.head(5)\n",
    "\n",
    "\n",
    "#mudando nome:\n",
    "DataJoin[\"População Total\"]= DataJoin.pop(\"2008_População total\")\n",
    "\n",
    "DataJoin[\"Consumo total de eletricidade\"]= DataJoin.pop(\"2008\")\n",
    "\n",
    "\n",
    "DataJoin = DataJoin.dropna() # Excluíndo os Nan da tabela"
   ]
  },
  {
   "cell_type": "markdown",
   "metadata": {},
   "source": [
    "# Análise descritiva"
   ]
  },
  {
   "cell_type": "code",
   "execution_count": 36,
   "metadata": {},
   "outputs": [
    {
     "data": {
      "text/html": [
       "<div>\n",
       "<style scoped>\n",
       "    .dataframe tbody tr th:only-of-type {\n",
       "        vertical-align: middle;\n",
       "    }\n",
       "\n",
       "    .dataframe tbody tr th {\n",
       "        vertical-align: top;\n",
       "    }\n",
       "\n",
       "    .dataframe thead th {\n",
       "        text-align: right;\n",
       "    }\n",
       "</style>\n",
       "<table border=\"1\" class=\"dataframe\">\n",
       "  <thead>\n",
       "    <tr style=\"text-align: right;\">\n",
       "      <th></th>\n",
       "      <th>IDH</th>\n",
       "      <th>População Total</th>\n",
       "      <th>Consumo total de eletricidade</th>\n",
       "    </tr>\n",
       "  </thead>\n",
       "  <tbody>\n",
       "    <tr>\n",
       "      <th>count</th>\n",
       "      <td>131.000000</td>\n",
       "      <td>1.310000e+02</td>\n",
       "      <td>1.310000e+02</td>\n",
       "    </tr>\n",
       "    <tr>\n",
       "      <th>mean</th>\n",
       "      <td>0.713267</td>\n",
       "      <td>4.935273e+07</td>\n",
       "      <td>1.391046e+11</td>\n",
       "    </tr>\n",
       "    <tr>\n",
       "      <th>std</th>\n",
       "      <td>0.144887</td>\n",
       "      <td>1.599816e+08</td>\n",
       "      <td>4.796720e+11</td>\n",
       "    </tr>\n",
       "    <tr>\n",
       "      <th>min</th>\n",
       "      <td>0.382000</td>\n",
       "      <td>3.110000e+05</td>\n",
       "      <td>2.290000e+08</td>\n",
       "    </tr>\n",
       "    <tr>\n",
       "      <th>25%</th>\n",
       "      <td>0.632500</td>\n",
       "      <td>4.390000e+06</td>\n",
       "      <td>5.915000e+09</td>\n",
       "    </tr>\n",
       "    <tr>\n",
       "      <th>50%</th>\n",
       "      <td>0.734000</td>\n",
       "      <td>1.080000e+07</td>\n",
       "      <td>1.912100e+10</td>\n",
       "    </tr>\n",
       "    <tr>\n",
       "      <th>75%</th>\n",
       "      <td>0.823000</td>\n",
       "      <td>3.660000e+07</td>\n",
       "      <td>7.345276e+10</td>\n",
       "    </tr>\n",
       "    <tr>\n",
       "      <th>max</th>\n",
       "      <td>0.936000</td>\n",
       "      <td>1.340000e+09</td>\n",
       "      <td>4.167195e+12</td>\n",
       "    </tr>\n",
       "  </tbody>\n",
       "</table>\n",
       "</div>"
      ],
      "text/plain": [
       "              IDH  População Total  Consumo total de eletricidade\n",
       "count  131.000000     1.310000e+02                   1.310000e+02\n",
       "mean     0.713267     4.935273e+07                   1.391046e+11\n",
       "std      0.144887     1.599816e+08                   4.796720e+11\n",
       "min      0.382000     3.110000e+05                   2.290000e+08\n",
       "25%      0.632500     4.390000e+06                   5.915000e+09\n",
       "50%      0.734000     1.080000e+07                   1.912100e+10\n",
       "75%      0.823000     3.660000e+07                   7.345276e+10\n",
       "max      0.936000     1.340000e+09                   4.167195e+12"
      ]
     },
     "execution_count": 36,
     "metadata": {},
     "output_type": "execute_result"
    }
   ],
   "source": [
    "DataJoin.describe() #descrever dados"
   ]
  },
  {
   "cell_type": "markdown",
   "metadata": {},
   "source": [
    "A partir da descrição dos dados feita acima, é possível, retirar que como a média do consumo total de eletricidade é maior que a mediana (em aproximadamente 10 vezes) podemos dizer que o consumo é assimétrico. Esse caso se repete com a população total e IDH, porém, com um grau de assimetria menor.\n",
    "\n",
    "Também é possível perceber uma tendencia de aumento conjunto de todas as variaveis.\n",
    "\n"
   ]
  },
  {
   "cell_type": "markdown",
   "metadata": {},
   "source": [
    "# Correlação"
   ]
  },
  {
   "cell_type": "code",
   "execution_count": 31,
   "metadata": {},
   "outputs": [
    {
     "data": {
      "text/html": [
       "<div>\n",
       "<style scoped>\n",
       "    .dataframe tbody tr th:only-of-type {\n",
       "        vertical-align: middle;\n",
       "    }\n",
       "\n",
       "    .dataframe tbody tr th {\n",
       "        vertical-align: top;\n",
       "    }\n",
       "\n",
       "    .dataframe thead th {\n",
       "        text-align: right;\n",
       "    }\n",
       "</style>\n",
       "<table border=\"1\" class=\"dataframe\">\n",
       "  <thead>\n",
       "    <tr style=\"text-align: right;\">\n",
       "      <th></th>\n",
       "      <th>IDH</th>\n",
       "      <th>População Total</th>\n",
       "      <th>Consumo total de eletricidade</th>\n",
       "    </tr>\n",
       "  </thead>\n",
       "  <tbody>\n",
       "    <tr>\n",
       "      <th>IDH</th>\n",
       "      <td>1.000000</td>\n",
       "      <td>-0.099513</td>\n",
       "      <td>0.176871</td>\n",
       "    </tr>\n",
       "    <tr>\n",
       "      <th>População Total</th>\n",
       "      <td>-0.099513</td>\n",
       "      <td>1.000000</td>\n",
       "      <td>0.626796</td>\n",
       "    </tr>\n",
       "    <tr>\n",
       "      <th>Consumo total de eletricidade</th>\n",
       "      <td>0.176871</td>\n",
       "      <td>0.626796</td>\n",
       "      <td>1.000000</td>\n",
       "    </tr>\n",
       "  </tbody>\n",
       "</table>\n",
       "</div>"
      ],
      "text/plain": [
       "                                    IDH  População Total  \\\n",
       "IDH                            1.000000        -0.099513   \n",
       "População Total               -0.099513         1.000000   \n",
       "Consumo total de eletricidade  0.176871         0.626796   \n",
       "\n",
       "                               Consumo total de eletricidade  \n",
       "IDH                                                 0.176871  \n",
       "População Total                                     0.626796  \n",
       "Consumo total de eletricidade                       1.000000  "
      ]
     },
     "execution_count": 31,
     "metadata": {},
     "output_type": "execute_result"
    }
   ],
   "source": [
    "DataJoin.corr() # calcular correlação"
   ]
  },
  {
   "cell_type": "markdown",
   "metadata": {},
   "source": [
    "Diferente da análise descritiva do pandar, a função correlação traz em porcentagem o quão relacionadas são as variáveis.\n",
    "\n",
    "Sabendo disso e observando a correlação acima, podemos concluir que o IDH se relaciona muito pouco com o consumo total de eletricidade e com a população total é menor.\n",
    "\n",
    "Porém a População total e o consumo total de eletricidade são 62% relacionados, é uma relação média-alta. Podemos deduzir que devido a grande população há mais pessoas usando eletronicos, eletrodomésticos, mais casas, mais trabalhos ,ou seja, há mais gasto de energia eletrica."
   ]
  },
  {
   "cell_type": "code",
   "execution_count": 42,
   "metadata": {},
   "outputs": [
    {
     "data": {
      "image/png": "[encoded data removed]",
      "text/plain": [
       "<matplotlib.figure.Figure at 0x177642062e8>"
      ]
     },
     "metadata": {},
     "output_type": "display_data"
    }
   ],
   "source": [
    "DataJoin.plot.scatter(y=\"IDH\", x = \"Consumo total de eletricidade\",  loglog=True)\n",
    "\n",
    "# Para usar as fórmulas da aula passada, precisamos calcular COV(X,Y), VAR(X) e VAR(Y), média de X e média de Y. \n",
    "# Neste nosso caso, X é a variável horsepower e Y é a variável acceleration.\n",
    "cov = DataJoin[\"Consumo total de eletricidade\"].cov(DataJoin[\"IDH\"])\n",
    "\n",
    "var_X = DataJoin[\"Consumo total de eletricidade\"].var()\n",
    "var_Y = DataJoin[\"IDH\"].var()\n",
    "\n",
    "mX = DataJoin[\"Consumo total de eletricidade\"].mean()\n",
    "mY = DataJoin[\"IDH\"].mean()\n",
    "\n",
    "# Agora podemos calcular a inclinação da reta de ajuste e a constante:\n",
    "a = cov / var_X\n",
    "b = mY - a*mX\n",
    "\n",
    "plt.plot((DataJoin[\"Consumo total de eletricidade\"].min(), DataJoin[\"Consumo total de eletricidade\"].max()), \n",
    "         (a*DataJoin[\"Consumo total de eletricidade\"].min() + b, a*DataJoin[\"Consumo total de eletricidade\"].max() + b), color='red')\n",
    "plt.grid(True)"
   ]
  },
  {
   "cell_type": "code",
   "execution_count": 41,
   "metadata": {
    "scrolled": true
   },
   "outputs": [
    {
     "data": {
      "image/png": "[encoded data removed]",
      "text/plain": [
       "<matplotlib.figure.Figure at 0x17765ccdb00>"
      ]
     },
     "metadata": {},
     "output_type": "display_data"
    }
   ],
   "source": [
    "DataJoin.plot.scatter(y=\"IDH\", x = \"População Total\",  loglog=True)\n",
    "plt.grid()\n",
    "\n",
    "# Para usar as fórmulas da aula passada, precisamos calcular COV(X,Y), VAR(X) e VAR(Y), média de X e média de Y. \n",
    "# Neste nosso caso, X é a variável horsepower e Y é a variável acceleration.\n",
    "cov = DataJoin[\"População Total\"].cov(DataJoin[\"IDH\"])\n",
    "\n",
    "var_X = DataJoin[\"População Total\"].var()\n",
    "var_Y = DataJoin[\"IDH\"].var()\n",
    "\n",
    "mX = DataJoin[\"População Total\"].mean()\n",
    "mY = DataJoin[\"IDH\"].mean()\n",
    "\n",
    "# Agora podemos calcular a inclinação da reta de ajuste e a constante:\n",
    "a = cov / var_X\n",
    "b = mY - a*mX\n",
    "\n",
    "plt.plot((DataJoin[\"População Total\"].min(), DataJoin[\"População Total\"].max()), \n",
    "         (a*DataJoin[\"População Total\"].min() + b, a*DataJoin[\"População Total\"].max() + b), color='red')\n",
    "plt.grid(True)"
   ]
  },
  {
   "cell_type": "code",
   "execution_count": 43,
   "metadata": {},
   "outputs": [
    {
     "data": {
      "text/plain": [
       "Text(0.5,1,'Figura 1')"
      ]
     },
     "execution_count": 43,
     "metadata": {},
     "output_type": "execute_result"
    },
    {
     "data": {
      "image/png": "[encoded data removed]",
      "text/plain": [
       "<matplotlib.figure.Figure at 0x1776425e198>"
      ]
     },
     "metadata": {},
     "output_type": "display_data"
    }
   ],
   "source": [
    "DataJoin.plot.scatter(y=\"Consumo total de eletricidade\", x = \"População Total\",loglog=True)\n",
    "plt.grid()\n",
    "\n",
    "# Para usar as fórmulas da aula passada, precisamos calcular COV(X,Y), VAR(X) e VAR(Y), média de X e média de Y. \n",
    "# Neste nosso caso, X é a variável horsepower e Y é a variável acceleration.\n",
    "cov = DataJoin[\"População Total\"].cov(DataJoin[\"Consumo total de eletricidade\"])\n",
    "\n",
    "var_X = DataJoin[\"População Total\"].var()\n",
    "var_Y = DataJoin[\"Consumo total de eletricidade\"].var()\n",
    "\n",
    "mX = DataJoin[\"População Total\"].mean()\n",
    "mY = DataJoin[\"Consumo total de eletricidade\"].mean()\n",
    "\n",
    "# Agora podemos calcular a inclinação da reta de ajuste e a constante:\n",
    "a = cov / var_X\n",
    "b = mY - a*mX\n",
    "\n",
    "plt.plot((DataJoin[\"População Total\"].min(), DataJoin[\"População Total\"].max()), \n",
    "         (a*DataJoin[\"População Total\"].min() + b, a*DataJoin[\"População Total\"].max() + b), color='red')\n",
    "plt.grid(True)\n",
    "plt.title(\"Figura 1\")"
   ]
  },
  {
   "cell_type": "markdown",
   "metadata": {},
   "source": [
    "Conforme observado no primeiro e segundo gráficos acima, a linha de tendencia vermelha confirma a baixa correlação descritiva pela função corr, do pandas.\n",
    "\n",
    "Porém na figura 3 a linha de tendencia não apresenta a correlação de 62% da função corr. Isso ocorre porque a linha de tendencia é diferente da correlação de Pearson.\n",
    "Na correlação mede o quanto uma variável se relaciona com outra variável, e na regressão linear(linha de tendencia) mede quanto uma variavel varia em função de outra variavel"
   ]
  },
  {
   "cell_type": "markdown",
   "metadata": {},
   "source": [
    "# Conclusão"
   ]
  },
  {
   "cell_type": "markdown",
   "metadata": {},
   "source": [
    "Com todas essas análises concluimos que o IDH possui uma correlação baixa com a população total e o consumo de eletricidade.\n",
    "Então a População Total e o consumo de eletricidade não são fatores diretamentes proporcionais ao IDH.\n",
    "Poém a População e o consumo de eletricidade são na maioria dos países diretamente proporcinais, seguindo a correlação.\n",
    "\n",
    "Estas observações nos levam a questionar o porque existem países com pouca população, IDH alto e consumo de eletricidade alto. Podemos supor que indústrias usam muita eletricidade e com isso há esses países, o que pode ser investigado em trabalhos futuros."
   ]
  },
  {
   "cell_type": "markdown",
   "metadata": {},
   "source": [
    "## Créditos:\n",
    "\n",
    "- Material da Aula 2\n",
    "- Material da Aula 5\n",
    "- Ajuda do aluno Bruno Winik para retirar os Nan com a função df.dropna()"
   ]
  },
  {
   "cell_type": "code",
   "execution_count": null,
   "metadata": {},
   "outputs": [],
   "source": []
  }
 ],
 "metadata": {
  "kernelspec": {
   "display_name": "Python 3",
   "language": "python",
   "name": "python3"
  },
  "language_info": {
   "codemirror_mode": {
    "name": "ipython",
    "version": 3
   },
   "file_extension": ".py",
   "mimetype": "text/x-python",
   "name": "python",
   "nbconvert_exporter": "python",
   "pygments_lexer": "ipython3",
   "version": "3.6.4"
  }
 },
 "nbformat": 4,
 "nbformat_minor": 2
}
